{
 "cells": [
  {
   "cell_type": "code",
   "execution_count": 27,
   "id": "f173b834",
   "metadata": {},
   "outputs": [],
   "source": [
    "import numpy as np"
   ]
  },
  {
   "cell_type": "code",
   "execution_count": 28,
   "id": "9148223e",
   "metadata": {},
   "outputs": [],
   "source": [
    "class RegularizedLogisticRegression:\n",
    "    \n",
    "    def __init__(self, lr = 0.001, n_iters = 1000, reg_penalty = 0.1):\n",
    "        \n",
    "        self.n_iters = n_iters\n",
    "        self.lr = lr\n",
    "        # theta = [b, w]\n",
    "        self.theta = None \n",
    "        self.reg_penalty = reg_penalty\n",
    "        \n",
    "    def fit(self, X, y):\n",
    "        n_samples, n_features = X.shape\n",
    "        # This X is of dimension n_features. We concatenate it by a constant 1.\n",
    "        # Therefore, we would have Theta*[1, X] = [b, W]*[1, X] = b + W*X\n",
    "        X_for_bias = np.ones(n_samples)\n",
    "        X_for_bias = X_for_bias[:, np.newaxis]\n",
    "        X = np.concatenate((X_for_bias, X), axis = 1)\n",
    "        \n",
    "        self.theta = np.random.random(n_features+1)\n",
    "        \n",
    "        for _ in range(self.n_iters):\n",
    "            linear_pred = np.dot(X, self.theta)\n",
    "            pred = self._sigmoid(linear_pred)\n",
    "            dtheta = (1/n_samples)*(-2)*np.dot(X.T, y - pred) + (self.reg_penalty * self.theta)\n",
    "            self.theta -= self.lr*dtheta\n",
    "            \n",
    "            \n",
    "        \n",
    "    @staticmethod   \n",
    "    def _sigmoid(x):\n",
    "        \n",
    "        return 1/(1+ np.exp(-x))\n",
    "        \n",
    "    def predict(self, x):\n",
    "        n_test_samples, _ = x.shape\n",
    "        x_for_bias = np.ones(n_test_samples)\n",
    "        x_for_bias = x_for_bias[:, np.newaxis]\n",
    "        x = np.concatenate((x_for_bias, x), axis = 1)\n",
    "        linear_pred = np.dot(x, self.theta) \n",
    "        pred = self._sigmoid(linear_pred)\n",
    "        pred_cls = [1 if i>0.5 else 0 for i in pred]\n",
    "        return pred_cls\n"
   ]
  },
  {
   "cell_type": "code",
   "execution_count": 29,
   "id": "dced6908",
   "metadata": {},
   "outputs": [],
   "source": [
    "from sklearn.model_selection import train_test_split\n",
    "from sklearn import datasets\n",
    "import matplotlib.pyplot as plt\n",
    "\n",
    "bc = datasets.load_breast_cancer()\n",
    "X, y = bc.data, bc.target\n",
    "\n",
    "X_train, X_test, y_train, y_test = train_test_split(X, y, test_size = 0.2, random_state = 1234)"
   ]
  },
  {
   "cell_type": "code",
   "execution_count": 30,
   "id": "dba8bfa7",
   "metadata": {},
   "outputs": [
    {
     "name": "stdout",
     "output_type": "stream",
     "text": [
      "0.9122807017543859\n"
     ]
    },
    {
     "name": "stderr",
     "output_type": "stream",
     "text": [
      "C:\\Users\\Nima\\AppData\\Local\\Temp\\ipykernel_2072\\3854319186.py:32: RuntimeWarning: overflow encountered in exp\n",
      "  return 1/(1+ np.exp(-x))\n"
     ]
    }
   ],
   "source": [
    "#parameters\n",
    "learning_rate = 0.01\n",
    "max_iter = 1000\n",
    "reg_coeff = 0.05\n",
    "\n",
    "#regressor\n",
    "regressor = RegularizedLogisticRegression(learning_rate, max_iter, reg_coeff)\n",
    "\n",
    "regressor.fit(X_train, y_train)\n",
    "\n",
    "\n",
    "y_predicted = regressor.predict(X_test)\n",
    "\n",
    "def acc(y_true, y_pred):\n",
    "    return np.sum(y_true==y_pred)/len(y_true)\n",
    "\n",
    "accuracy = acc(y_test, y_predicted)\n",
    "print(accuracy)"
   ]
  },
  {
   "cell_type": "code",
   "execution_count": null,
   "id": "ab2fbe51",
   "metadata": {},
   "outputs": [],
   "source": []
  }
 ],
 "metadata": {
  "kernelspec": {
   "display_name": "Python 3 (ipykernel)",
   "language": "python",
   "name": "python3"
  },
  "language_info": {
   "codemirror_mode": {
    "name": "ipython",
    "version": 3
   },
   "file_extension": ".py",
   "mimetype": "text/x-python",
   "name": "python",
   "nbconvert_exporter": "python",
   "pygments_lexer": "ipython3",
   "version": "3.10.4"
  }
 },
 "nbformat": 4,
 "nbformat_minor": 5
}
